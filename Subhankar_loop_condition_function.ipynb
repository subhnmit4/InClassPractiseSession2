{
  "nbformat": 4,
  "nbformat_minor": 0,
  "metadata": {
    "colab": {
      "name": "Subhankar_loop_condition_function.ipynb",
      "provenance": []
    },
    "kernelspec": {
      "name": "python3",
      "display_name": "Python 3"
    },
    "language_info": {
      "name": "python"
    }
  },
  "cells": [
    {
      "cell_type": "code",
      "metadata": {
        "colab": {
          "base_uri": "https://localhost:8080/",
          "height": 35
        },
        "id": "br4Dr3HCDDaK",
        "outputId": "eaa341cb-bcb7-4783-dd24-215d9e402919"
      },
      "source": [
        "key = 'astyer'\n",
        "key[:3]+key[3:]"
      ],
      "execution_count": 1,
      "outputs": [
        {
          "output_type": "execute_result",
          "data": {
            "application/vnd.google.colaboratory.intrinsic+json": {
              "type": "string"
            },
            "text/plain": [
              "'astyer'"
            ]
          },
          "metadata": {},
          "execution_count": 1
        }
      ]
    },
    {
      "cell_type": "code",
      "metadata": {
        "colab": {
          "base_uri": "https://localhost:8080/"
        },
        "id": "J6c5paZFFVRW",
        "outputId": "505bfd7d-f6f5-4e78-b618-67bb886de7cd"
      },
      "source": [
        "list = ['a','b']\n",
        "list [10:]"
      ],
      "execution_count": 2,
      "outputs": [
        {
          "output_type": "execute_result",
          "data": {
            "text/plain": [
              "[]"
            ]
          },
          "metadata": {},
          "execution_count": 2
        }
      ]
    },
    {
      "cell_type": "code",
      "metadata": {
        "colab": {
          "base_uri": "https://localhost:8080/"
        },
        "id": "OF7YbK1HPKQo",
        "outputId": "fab7c9d4-2530-4b7e-8f43-47cf476695e4"
      },
      "source": [
        "a= int(input(\"Enter any number: \"))\n",
        "if(a%2==0):\n",
        "  print (a,\" is an even number\")\n",
        "else:\n",
        "  print (a,\" is a odd number\")\n",
        "\n"
      ],
      "execution_count": 4,
      "outputs": [
        {
          "output_type": "stream",
          "name": "stdout",
          "text": [
            "Enter any number: 44\n",
            "44  is an even number\n"
          ]
        }
      ]
    },
    {
      "cell_type": "code",
      "metadata": {
        "colab": {
          "base_uri": "https://localhost:8080/"
        },
        "id": "M_p0mDdSP52_",
        "outputId": "deefa72e-27fa-4e09-eb5d-289afa567680"
      },
      "source": [
        "x= int(input(\"Enter value of x: \"))\n",
        "y= int(input(\"Enter value of y: \"))\n",
        "if (x>y):\n",
        "  print (\"X = \",x,\" is greater than Y = \", y)\n",
        "else:\n",
        "  print (\"Y = \",y,\" is greater than X = \", x)\n"
      ],
      "execution_count": 5,
      "outputs": [
        {
          "output_type": "stream",
          "name": "stdout",
          "text": [
            "Enter value of x: 34\n",
            "Enter value of y: 242\n",
            "Y =  242  is greater than X =  34\n"
          ]
        }
      ]
    },
    {
      "cell_type": "code",
      "metadata": {
        "colab": {
          "base_uri": "https://localhost:8080/"
        },
        "id": "i9gpBbNhWI2_",
        "outputId": "cc998329-95ff-49e7-bc23-629ba9de6a89"
      },
      "source": [
        "n = 5\n",
        "for i in range(1,n):\n",
        "  print (i)\n"
      ],
      "execution_count": 12,
      "outputs": [
        {
          "output_type": "stream",
          "name": "stdout",
          "text": [
            "1\n",
            "2\n",
            "3\n",
            "4\n"
          ]
        }
      ]
    },
    {
      "cell_type": "code",
      "metadata": {
        "colab": {
          "base_uri": "https://localhost:8080/"
        },
        "id": "tJ9AXw_1Xa5l",
        "outputId": "9bd44386-3c6f-4116-a7c3-8782a04a9a67"
      },
      "source": [
        "n = 10\n",
        "for i in range(1,n):\n",
        "  if (i == 5):\n",
        "    \n",
        "    print (i)"
      ],
      "execution_count": 19,
      "outputs": [
        {
          "output_type": "stream",
          "name": "stdout",
          "text": [
            "5\n"
          ]
        }
      ]
    },
    {
      "cell_type": "code",
      "metadata": {
        "id": "9BU8r2v0d7Vq"
      },
      "source": [
        "def add(a1 = 1,a2 = 3):\n",
        "  s = a1 +a2\n",
        "  print (s)\n"
      ],
      "execution_count": 25,
      "outputs": []
    },
    {
      "cell_type": "code",
      "metadata": {
        "colab": {
          "base_uri": "https://localhost:8080/"
        },
        "id": "zkdoZa1aeQVA",
        "outputId": "7a043b80-2ffc-415c-e345-6d8c4762cd1d"
      },
      "source": [
        "add (10,2)"
      ],
      "execution_count": 27,
      "outputs": [
        {
          "output_type": "stream",
          "name": "stdout",
          "text": [
            "12\n"
          ]
        }
      ]
    },
    {
      "cell_type": "code",
      "metadata": {
        "colab": {
          "base_uri": "https://localhost:8080/"
        },
        "id": "B3C5BT8mgqF_",
        "outputId": "8c893336-9829-4a50-f328-5661787300af"
      },
      "source": [
        "x = add()"
      ],
      "execution_count": 28,
      "outputs": [
        {
          "output_type": "stream",
          "name": "stdout",
          "text": [
            "4\n"
          ]
        }
      ]
    },
    {
      "cell_type": "code",
      "metadata": {
        "colab": {
          "base_uri": "https://localhost:8080/"
        },
        "id": "T2LyNyHAgtfb",
        "outputId": "69f271ae-12e2-4d7b-a923-a5a9b8acac66"
      },
      "source": [
        "print (x)"
      ],
      "execution_count": 29,
      "outputs": [
        {
          "output_type": "stream",
          "name": "stdout",
          "text": [
            "None\n"
          ]
        }
      ]
    },
    {
      "cell_type": "code",
      "metadata": {
        "id": "XTBC-aVdgymv"
      },
      "source": [
        "def add(a1 = 1,a2 = 3):\n",
        "  s = a1 +a2\n",
        "  \n",
        "  return (s)\n"
      ],
      "execution_count": 32,
      "outputs": []
    },
    {
      "cell_type": "code",
      "metadata": {
        "colab": {
          "base_uri": "https://localhost:8080/"
        },
        "id": "j5dRFKE3g4re",
        "outputId": "e11bdf8d-3203-44ea-ee2f-10fca9ecd476"
      },
      "source": [
        "x = add()\n",
        "print (x)"
      ],
      "execution_count": 33,
      "outputs": [
        {
          "output_type": "stream",
          "name": "stdout",
          "text": [
            "4\n"
          ]
        }
      ]
    }
  ]
}