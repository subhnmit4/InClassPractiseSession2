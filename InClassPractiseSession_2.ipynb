{
  "nbformat": 4,
  "nbformat_minor": 0,
  "metadata": {
    "colab": {
      "name": "InClassPractiseSession 2.ipynb",
      "provenance": []
    },
    "kernelspec": {
      "name": "python3",
      "display_name": "Python 3"
    },
    "language_info": {
      "name": "python"
    }
  },
  "cells": [
    {
      "cell_type": "markdown",
      "metadata": {
        "id": "bXecRj5x-nRH"
      },
      "source": [
        "In Class Practise Session II:\n",
        "\n",
        "IF Else to check which of the two numbers is greater"
      ]
    },
    {
      "cell_type": "code",
      "metadata": {
        "colab": {
          "base_uri": "https://localhost:8080/"
        },
        "id": "-CIbiofk7TMT",
        "outputId": "b9b5cc00-0517-4d57-e19a-9af08f224c3a"
      },
      "source": [
        "a = int(input(\"Enter value of A\"))\n",
        "b = int(input(\"Enter value of B\"))\n",
        "if (a>b):\n",
        "  print (\"A = \",a,\" is greater than B = \",b)\n",
        "else:\n",
        "  print (\"B = \",b,\" is greater than A = \",a)"
      ],
      "execution_count": 1,
      "outputs": [
        {
          "output_type": "stream",
          "name": "stdout",
          "text": [
            "Enter value of A45\n",
            "Enter value of B65\n",
            "B =  65  is greater than A =  45\n"
          ]
        }
      ]
    },
    {
      "cell_type": "markdown",
      "metadata": {
        "id": "8On29XEN-0bl"
      },
      "source": [
        "ShopKeeper dicount based on quantity"
      ]
    },
    {
      "cell_type": "code",
      "metadata": {
        "colab": {
          "base_uri": "https://localhost:8080/"
        },
        "id": "qU1ZS28U_Mdv",
        "outputId": "1d1a2e24-c80e-4df9-af76-48d3ef4ce278"
      },
      "source": [
        "qty = int (input (\"Enter quantity: \"))\n",
        "amount = qty*100\n",
        "if(amount>999):\n",
        "  print (\"The total cost is \",amount-(amount*10/100))\n",
        "else:\n",
        "  print (\"The total cost is \",amount)"
      ],
      "execution_count": 6,
      "outputs": [
        {
          "output_type": "stream",
          "name": "stdout",
          "text": [
            "Enter quantity: 89\n",
            "The total cost is  8010.0\n"
          ]
        }
      ]
    },
    {
      "cell_type": "markdown",
      "metadata": {
        "id": "YLeEjpK_ASBu"
      },
      "source": [
        "School Grading System"
      ]
    },
    {
      "cell_type": "code",
      "metadata": {
        "colab": {
          "base_uri": "https://localhost:8080/"
        },
        "id": "P_vGbcTWAl1r",
        "outputId": "8acf8cfe-2ebe-42a1-f4ee-e78a5807066c"
      },
      "source": [
        "marks = int(input(\"Enter marks: \"))\n",
        "if ((marks>=0) & (marks<25)):\n",
        "  print (\"Your grade is F\")\n",
        "elif ((marks>=25) & (marks<45)):\n",
        "  print (\"Your grade is E\")\n",
        "elif ((marks>=45) & (marks<50)):\n",
        "  print (\"Your grade is D\")\n",
        "elif ((marks>=50) & (marks<60)):\n",
        "  print (\"Your grade is C\")\n",
        "elif ((marks>=60) & (marks<80)):\n",
        "  print (\"Your grade is B\")\n",
        "elif ((marks>=80) & (marks<101)):\n",
        "  print (\"Your grade is A\")\n",
        "else:\n",
        "  print (\"Invalid marks entry. Please check input.\")"
      ],
      "execution_count": 11,
      "outputs": [
        {
          "output_type": "stream",
          "name": "stdout",
          "text": [
            "Enter marks: 900\n",
            "Invalid marks entry. Please check input.\n"
          ]
        }
      ]
    }
  ]
}